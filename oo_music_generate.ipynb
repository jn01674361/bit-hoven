{
 "cells": [
  {
   "cell_type": "code",
   "execution_count": 2,
   "metadata": {},
   "outputs": [],
   "source": [
    "from music21 import converter, instrument, note, chord\n",
    "import glob\n",
    "import pickle\n",
    "import keras \n",
    "import numpy as np\n",
    "from keras.utils import np_utils\n",
    "from keras.models import Sequential\n",
    "from keras.layers import Dense\n",
    "from keras.layers import Dropout\n",
    "from keras.layers import LSTM\n",
    "from keras.layers import Activation\n",
    "from keras.callbacks import ModelCheckpoint\n",
    "\n"
   ]
  },
  {
   "cell_type": "code",
   "execution_count": 39,
   "metadata": {},
   "outputs": [
    {
     "name": "stdout",
     "output_type": "stream",
     "text": [
      "end of construct\n",
      "(0,)\n"
     ]
    },
    {
     "ename": "IndexError",
     "evalue": "tuple index out of range",
     "output_type": "error",
     "traceback": [
      "\u001b[0;31m---------------------------------------------------------------------------\u001b[0m",
      "\u001b[0;31mIndexError\u001b[0m                                Traceback (most recent call last)",
      "\u001b[0;32m<ipython-input-39-d9c2981272dd>\u001b[0m in \u001b[0;36m<module>\u001b[0;34m()\u001b[0m\n\u001b[1;32m     70\u001b[0m \u001b[0ma\u001b[0m \u001b[0;34m=\u001b[0m \u001b[0mBithoven\u001b[0m\u001b[0;34m(\u001b[0m\u001b[0;34m)\u001b[0m\u001b[0;34m\u001b[0m\u001b[0m\n\u001b[1;32m     71\u001b[0m \u001b[0mprint\u001b[0m\u001b[0;34m(\u001b[0m\u001b[0mnp\u001b[0m\u001b[0;34m.\u001b[0m\u001b[0mshape\u001b[0m\u001b[0;34m(\u001b[0m\u001b[0ma\u001b[0m\u001b[0;34m.\u001b[0m\u001b[0mnetwork_input\u001b[0m\u001b[0;34m)\u001b[0m\u001b[0;34m)\u001b[0m\u001b[0;34m\u001b[0m\u001b[0m\n\u001b[0;32m---> 72\u001b[0;31m \u001b[0ma\u001b[0m\u001b[0;34m.\u001b[0m\u001b[0mcreate_rnn\u001b[0m\u001b[0;34m(\u001b[0m\u001b[0;34m)\u001b[0m\u001b[0;34m\u001b[0m\u001b[0m\n\u001b[0m\u001b[1;32m     73\u001b[0m \u001b[0;34m\u001b[0m\u001b[0m\n\u001b[1;32m     74\u001b[0m \u001b[0;34m\u001b[0m\u001b[0m\n",
      "\u001b[0;32m<ipython-input-39-d9c2981272dd>\u001b[0m in \u001b[0;36mcreate_rnn\u001b[0;34m(self)\u001b[0m\n\u001b[1;32m     59\u001b[0m \u001b[0;34m\u001b[0m\u001b[0m\n\u001b[1;32m     60\u001b[0m     \u001b[0;32mdef\u001b[0m \u001b[0mcreate_rnn\u001b[0m\u001b[0;34m(\u001b[0m\u001b[0mself\u001b[0m\u001b[0;34m)\u001b[0m\u001b[0;34m:\u001b[0m\u001b[0;34m\u001b[0m\u001b[0m\n\u001b[0;32m---> 61\u001b[0;31m         \u001b[0mself\u001b[0m\u001b[0;34m.\u001b[0m\u001b[0mmodel\u001b[0m\u001b[0;34m.\u001b[0m\u001b[0madd\u001b[0m\u001b[0;34m(\u001b[0m\u001b[0mLSTM\u001b[0m\u001b[0;34m(\u001b[0m\u001b[0;36m512\u001b[0m\u001b[0;34m,\u001b[0m\u001b[0minput_shape\u001b[0m \u001b[0;34m=\u001b[0m \u001b[0;34m(\u001b[0m\u001b[0mself\u001b[0m\u001b[0;34m.\u001b[0m\u001b[0mnetwork_input\u001b[0m\u001b[0;34m.\u001b[0m\u001b[0mshape\u001b[0m\u001b[0;34m[\u001b[0m\u001b[0;36m1\u001b[0m\u001b[0;34m]\u001b[0m\u001b[0;34m,\u001b[0m\u001b[0mself\u001b[0m\u001b[0;34m.\u001b[0m\u001b[0mnetwork_input\u001b[0m\u001b[0;34m.\u001b[0m\u001b[0mshape\u001b[0m\u001b[0;34m[\u001b[0m\u001b[0;36m2\u001b[0m\u001b[0;34m]\u001b[0m\u001b[0;34m)\u001b[0m\u001b[0;34m,\u001b[0m \u001b[0mreturn_sequences\u001b[0m\u001b[0;34m=\u001b[0m\u001b[0;32mTrue\u001b[0m\u001b[0;34m)\u001b[0m\u001b[0;34m)\u001b[0m\u001b[0;34m\u001b[0m\u001b[0m\n\u001b[0m\u001b[1;32m     62\u001b[0m         \u001b[0mself\u001b[0m\u001b[0;34m.\u001b[0m\u001b[0mmodel\u001b[0m\u001b[0;34m.\u001b[0m\u001b[0madd\u001b[0m\u001b[0;34m(\u001b[0m\u001b[0mDropout\u001b[0m\u001b[0;34m(\u001b[0m\u001b[0;36m0.3\u001b[0m\u001b[0;34m)\u001b[0m\u001b[0;34m)\u001b[0m\u001b[0;34m\u001b[0m\u001b[0m\n\u001b[1;32m     63\u001b[0m         \u001b[0mself\u001b[0m\u001b[0;34m.\u001b[0m\u001b[0mmodel\u001b[0m\u001b[0;34m.\u001b[0m\u001b[0madd\u001b[0m\u001b[0;34m(\u001b[0m\u001b[0mLSTM\u001b[0m\u001b[0;34m(\u001b[0m\u001b[0;36m512\u001b[0m\u001b[0;34m)\u001b[0m\u001b[0;34m)\u001b[0m\u001b[0;34m\u001b[0m\u001b[0m\n",
      "\u001b[0;31mIndexError\u001b[0m: tuple index out of range"
     ]
    }
   ],
   "source": [
    "class Bithoven:\n",
    "    def __init__(self,seq_len=100, net_in=np.array([]), net_out=np.array([]), n_voc=0, w=0,n=[]):\n",
    "        self.ns = seq_len     #number of sequences\n",
    "        self.network_input = net_in\n",
    "        self.network_output = net_out\n",
    "        self.n_vocab = n_voc\n",
    "        self.model = Sequential()\n",
    "        self.weights = w\n",
    "        self.notes = n\n",
    "        \n",
    "        \n",
    "        self.pitchnames = sorted(set(item for item in self.notes))\n",
    "        self.int_from_note = dict((self.notes,number) for number,note in enumerate(self.pitchnames))\n",
    "        \n",
    "        print(\"end of construct\")\n",
    "        \n",
    "    \n",
    "    def get_data(self):\n",
    "        \n",
    "        for track in glob.glob(\"midi_songs/*.mid\"):\n",
    "            midi_track = converter.parse(song)\n",
    "            to_be_parsed = 0\n",
    "            different_instruments = instrument.partitionByInstrument(midi_track)\n",
    "            \n",
    "            if different_instruments:\n",
    "                to_be_parsed = different_instruments.parts[0].recurse()\n",
    "            else:\n",
    "                to_be_parsed = midi_track.flat.notes\n",
    "            \n",
    "            for el in to_be_parsed:\n",
    "                if isinstance(el, note.Note):\n",
    "                    self.notes.append(str(el.pitch))\n",
    "                elif isinstance(el,chord.Chord):\n",
    "                    for a_note in el.normalOrder:\n",
    "                        self.notes.append('.'.join(str(a_note)))\n",
    "                        \n",
    "                    \n",
    "    \n",
    "    \n",
    "    def prep_data(self):\n",
    "        \n",
    "        temp_net_out = []\n",
    "        self.network_input = np.zeros(self.ns*(len(self.notes)-self.ns),self.ns,1)\n",
    "        \n",
    "        for i in range(0,len(self.notes)-self.ns,1):\n",
    "             \n",
    "            for j,characters in enumerate(self.notes[i:i+self.ns]):\n",
    "                \n",
    "                self.network_input[i,j,1]= self.int_from_note[characters]\n",
    "            \n",
    "            temp_net_out.append(self.int_from_note[i+self.ns])\n",
    "\n",
    "        self.network_input /= self.n_vocab\n",
    "        self.network_output = np_utils.to_categorical(temp_net_out) #converts a class vector to a binary class matrix\n",
    "    \n",
    "        the_file = open('data/notes', 'wb')\n",
    "        pickle.dump(self.notes,the_file)\n",
    "        \n",
    "        \n",
    "    def create_rnn(self, train_model=True):\n",
    "        self.model.add(LSTM(512,input_shape = (self.network_input.shape[1],self.network_input.shape[2]), return_sequences=True))\n",
    "        self.model.add(Dropout(0.3))\n",
    "        self.model.add(LSTM(512))\n",
    "        self.model.add(Dense(256))\n",
    "        self.model.add(Dropout(0.3))\n",
    "        self.model.add(Dense(self.n_vocab))\n",
    "        self.model.add(Activation('softmax'))\n",
    "        self.model.compile(loss='categorical_crossentropy',optimizer='rmsprop')\n",
    "        \n",
    "        if not train_model:\n",
    "            self.model.load_weights('weights.hdf5')\n",
    "        \n",
    "    def train_rnn(self):\n",
    "        \n",
    "        the_file = \"weights-improvement-{epoch:02d}--{loss:.4f}-bigger.hdf5\"\n",
    "        cpoint = ModelCheckpoint(the_file, monitor = 'loss', verbose=0,save_best_only = True, mode = 'min')\n",
    "        cb_list = [cpoint] #callbacks\n",
    "        self.model.fit(self.network_input, self.network_output, epochs = 10, batch_size = 64, callbacks = cblist)\n",
    "        \n",
    "    def "
   ]
  },
  {
   "cell_type": "code",
   "execution_count": null,
   "metadata": {
    "collapsed": true
   },
   "outputs": [],
   "source": [
    "#TESTA SEN!!!!\n",
    "#chord.chord.show()\n",
    "\n"
   ]
  },
  {
   "cell_type": "code",
   "execution_count": 22,
   "metadata": {},
   "outputs": [
    {
     "name": "stdout",
     "output_type": "stream",
     "text": [
      "[[1 2 3 4]\n",
      " [5 6 7 8]]\n"
     ]
    }
   ],
   "source": [
    "#a = Bithoven()\n",
    "#a.notes\n",
    "import numpy as np\n",
    "hej=[1, 2, 3, 4, 5, 6, 7, 8]\n",
    "test=np.reshape(hej,(2,4))\n",
    "print(test)\n"
   ]
  },
  {
   "cell_type": "code",
   "execution_count": 24,
   "metadata": {
    "collapsed": true
   },
   "outputs": [],
   "source": [
    "a =2\n",
    "a /=2"
   ]
  },
  {
   "cell_type": "code",
   "execution_count": 29,
   "metadata": {},
   "outputs": [],
   "source": [
    "the_file = open('data/notes', 'wb')\n"
   ]
  },
  {
   "cell_type": "code",
   "execution_count": null,
   "metadata": {
    "collapsed": true
   },
   "outputs": [],
   "source": []
  },
  {
   "cell_type": "code",
   "execution_count": null,
   "metadata": {
    "collapsed": true
   },
   "outputs": [],
   "source": []
  }
 ],
 "metadata": {
  "kernelspec": {
   "display_name": "Python 3",
   "language": "python",
   "name": "python3"
  },
  "language_info": {
   "codemirror_mode": {
    "name": "ipython",
    "version": 3
   },
   "file_extension": ".py",
   "mimetype": "text/x-python",
   "name": "python",
   "nbconvert_exporter": "python",
   "pygments_lexer": "ipython3",
   "version": "3.6.1"
  }
 },
 "nbformat": 4,
 "nbformat_minor": 2
}
